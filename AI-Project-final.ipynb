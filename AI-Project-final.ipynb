{
 "cells": [
  {
   "cell_type": "markdown",
   "id": "61a33cbb",
   "metadata": {},
   "source": [
    "<h1> AI - Project</h1>\n",
    "<h1> predict cardiovascular-diseases</h1>"
   ]
  },
  {
   "cell_type": "markdown",
   "id": "49fb3663",
   "metadata": {},
   "source": [
    "<h2> Getting the data </h2>"
   ]
  },
  {
   "cell_type": "code",
   "execution_count": 1,
   "id": "3fe5bcb9",
   "metadata": {},
   "outputs": [
    {
     "name": "stderr",
     "output_type": "stream",
     "text": [
      "C:\\Users\\Hamza\\AppData\\Roaming\\Python\\Python311\\site-packages\\matplotlib\\projections\\__init__.py:63: UserWarning: Unable to import Axes3D. This may be due to multiple versions of Matplotlib being installed (e.g. as a system package and as a pip package). As a result, the 3D projection is not available.\n",
      "  warnings.warn(\"Unable to import Axes3D. This may be due to multiple versions of \"\n"
     ]
    }
   ],
   "source": [
    "# This Python 3 environment comes with many helpful analytics libraries installed\n",
    "# It is defined by the kaggle/python Docker image: https://github.com/kaggle/docker-python\n",
    "# For example, here's several helpful packages to load\n",
    "\n",
    "import numpy as np\n",
    "import pandas as pd \n",
    "\n",
    "from matplotlib import pyplot as plt\n",
    "import seaborn as sns\n",
    "\n"
   ]
  },
  {
   "cell_type": "code",
   "execution_count": 2,
   "id": "8fb8980e",
   "metadata": {},
   "outputs": [],
   "source": [
    "#Reading the DataSet\n",
    "cardio = pd.read_excel(r\"H:\\university\\ai\\AI-Project (1)\\cardio.xlsx\")\n"
   ]
  },
  {
   "cell_type": "code",
   "execution_count": 3,
   "id": "72574ff4",
   "metadata": {},
   "outputs": [
    {
     "name": "stdout",
     "output_type": "stream",
     "text": [
      "<class 'pandas.core.frame.DataFrame'>\n",
      "RangeIndex: 70000 entries, 0 to 69999\n",
      "Data columns (total 13 columns):\n",
      " #   Column       Non-Null Count  Dtype\n",
      "---  ------       --------------  -----\n",
      " 0   id           70000 non-null  int64\n",
      " 1   age          70000 non-null  int64\n",
      " 2   gender       70000 non-null  int64\n",
      " 3   height       70000 non-null  int64\n",
      " 4   weight       70000 non-null  int64\n",
      " 5   ap_hi        70000 non-null  int64\n",
      " 6   ap_lo        70000 non-null  int64\n",
      " 7   cholesterol  70000 non-null  int64\n",
      " 8   gluc         70000 non-null  int64\n",
      " 9   smoke        70000 non-null  int64\n",
      " 10  alco         70000 non-null  int64\n",
      " 11  active       70000 non-null  int64\n",
      " 12  cardio       70000 non-null  int64\n",
      "dtypes: int64(13)\n",
      "memory usage: 6.9 MB\n"
     ]
    }
   ],
   "source": [
    "cardio.info()"
   ]
  },
  {
   "cell_type": "markdown",
   "id": "70515aec",
   "metadata": {},
   "source": [
    "<h2> Exploring the data </h2>"
   ]
  },
  {
   "cell_type": "code",
   "execution_count": 4,
   "id": "3f523bee",
   "metadata": {},
   "outputs": [
    {
     "name": "stdout",
     "output_type": "stream",
     "text": [
      "   id    age  gender  height  weight  ap_hi  ap_lo  cholesterol  gluc  smoke  \\\n",
      "0   0  18393       2     168      62    110     80            1     1      0   \n",
      "1   1  20228       1     156      85    140     90            3     1      0   \n",
      "2   2  18857       1     165      64    130     70            3     1      0   \n",
      "3   3  17623       2     169      82    150    100            1     1      0   \n",
      "4   4  17474       1     156      56    100     60            1     1      0   \n",
      "\n",
      "   alco  active  cardio  \n",
      "0     0       1       0  \n",
      "1     0       1       1  \n",
      "2     0       0       1  \n",
      "3     0       1       1  \n",
      "4     0       0       0  \n"
     ]
    }
   ],
   "source": [
    "#Exploring the Data\n",
    "print(cardio.head())"
   ]
  },
  {
   "cell_type": "code",
   "execution_count": 5,
   "id": "fc21c038",
   "metadata": {},
   "outputs": [
    {
     "name": "stdout",
     "output_type": "stream",
     "text": [
      "<class 'pandas.core.frame.DataFrame'>\n",
      "RangeIndex: 70000 entries, 0 to 69999\n",
      "Data columns (total 13 columns):\n",
      " #   Column       Non-Null Count  Dtype\n",
      "---  ------       --------------  -----\n",
      " 0   id           70000 non-null  int64\n",
      " 1   age          70000 non-null  int64\n",
      " 2   gender       70000 non-null  int64\n",
      " 3   height       70000 non-null  int64\n",
      " 4   weight       70000 non-null  int64\n",
      " 5   ap_hi        70000 non-null  int64\n",
      " 6   ap_lo        70000 non-null  int64\n",
      " 7   cholesterol  70000 non-null  int64\n",
      " 8   gluc         70000 non-null  int64\n",
      " 9   smoke        70000 non-null  int64\n",
      " 10  alco         70000 non-null  int64\n",
      " 11  active       70000 non-null  int64\n",
      " 12  cardio       70000 non-null  int64\n",
      "dtypes: int64(13)\n",
      "memory usage: 6.9 MB\n",
      "None\n"
     ]
    }
   ],
   "source": [
    "print(cardio.info())"
   ]
  },
  {
   "cell_type": "code",
   "execution_count": 6,
   "id": "150605dd",
   "metadata": {},
   "outputs": [
    {
     "name": "stdout",
     "output_type": "stream",
     "text": [
      "                 id           age        gender        height        weight  \\\n",
      "count  70000.000000  70000.000000  70000.000000  70000.000000  70000.000000   \n",
      "mean   49972.419900  19468.865814      1.349571    164.359229     74.205543   \n",
      "std    28851.302323   2467.251667      0.476838      8.210126     14.395829   \n",
      "min        0.000000  10798.000000      1.000000     55.000000     10.000000   \n",
      "25%    25006.750000  17664.000000      1.000000    159.000000     65.000000   \n",
      "50%    50001.500000  19703.000000      1.000000    165.000000     72.000000   \n",
      "75%    74889.250000  21327.000000      2.000000    170.000000     82.000000   \n",
      "max    99999.000000  23713.000000      2.000000    250.000000    200.000000   \n",
      "\n",
      "              ap_hi         ap_lo   cholesterol          gluc         smoke  \\\n",
      "count  70000.000000  70000.000000  70000.000000  70000.000000  70000.000000   \n",
      "mean     128.817286     96.630414      1.366871      1.226457      0.088129   \n",
      "std      154.011419    188.472530      0.680250      0.572270      0.283484   \n",
      "min     -150.000000    -70.000000      1.000000      1.000000      0.000000   \n",
      "25%      120.000000     80.000000      1.000000      1.000000      0.000000   \n",
      "50%      120.000000     80.000000      1.000000      1.000000      0.000000   \n",
      "75%      140.000000     90.000000      2.000000      1.000000      0.000000   \n",
      "max    16020.000000  11000.000000      3.000000      3.000000      1.000000   \n",
      "\n",
      "               alco        active        cardio  \n",
      "count  70000.000000  70000.000000  70000.000000  \n",
      "mean       0.053771      0.803729      0.499700  \n",
      "std        0.225568      0.397179      0.500003  \n",
      "min        0.000000      0.000000      0.000000  \n",
      "25%        0.000000      1.000000      0.000000  \n",
      "50%        0.000000      1.000000      0.000000  \n",
      "75%        0.000000      1.000000      1.000000  \n",
      "max        1.000000      1.000000      1.000000  \n"
     ]
    }
   ],
   "source": [
    "print(cardio.describe())"
   ]
  },
  {
   "cell_type": "markdown",
   "id": "0cb1ced9",
   "metadata": {},
   "source": [
    "<h1></h1>\n",
    "<h2> Data Preparation </h2>"
   ]
  },
  {
   "cell_type": "code",
   "execution_count": 7,
   "id": "0b86e3a5",
   "metadata": {},
   "outputs": [
    {
     "name": "stdout",
     "output_type": "stream",
     "text": [
      "id             0\n",
      "age            0\n",
      "gender         0\n",
      "height         0\n",
      "weight         0\n",
      "ap_hi          0\n",
      "ap_lo          0\n",
      "cholesterol    0\n",
      "gluc           0\n",
      "smoke          0\n",
      "alco           0\n",
      "active         0\n",
      "cardio         0\n",
      "dtype: int64\n"
     ]
    }
   ],
   "source": [
    "#Making sure that there aren't null values:\n",
    "print(cardio.isnull().sum())"
   ]
  },
  {
   "cell_type": "code",
   "execution_count": 8,
   "id": "302de18a",
   "metadata": {},
   "outputs": [
    {
     "name": "stdout",
     "output_type": "stream",
     "text": [
      "cardio\n",
      "0    0.5003\n",
      "1    0.4997\n",
      "Name: proportion, dtype: float64\n"
     ]
    }
   ],
   "source": [
    "#Printing the percentage of the 2 classes:\n",
    "print(cardio['cardio'].value_counts(normalize=True))"
   ]
  },
  {
   "cell_type": "code",
   "execution_count": 9,
   "id": "d32fb1c1",
   "metadata": {},
   "outputs": [],
   "source": [
    "#adding new feature (BMI) to our data\n",
    "cardio['BMI'] = cardio['weight']/((cardio['height']/100)**2)"
   ]
  },
  {
   "cell_type": "code",
   "execution_count": 10,
   "id": "0a2c7a44",
   "metadata": {},
   "outputs": [
    {
     "name": "stdout",
     "output_type": "stream",
     "text": [
      "BMI\n",
      "False    69349\n",
      "True       651\n",
      "Name: count, dtype: int64\n",
      "BMI\n",
      "False    44212\n",
      "True     25788\n",
      "Name: count, dtype: int64\n",
      "BMI\n",
      "False    44913\n",
      "True     25087\n",
      "Name: count, dtype: int64\n",
      "BMI\n",
      "False    51526\n",
      "True     18474\n",
      "Name: count, dtype: int64\n"
     ]
    }
   ],
   "source": [
    "print((cardio['BMI']<18.5).value_counts())\n",
    "print(((cardio['BMI']>=18.5) & (cardio['BMI']<25)).value_counts())\n",
    "print(((cardio['BMI']>=25) & (cardio['BMI']<30)).value_counts())\n",
    "print((cardio['BMI']>=30).value_counts())"
   ]
  },
  {
   "cell_type": "code",
   "execution_count": 11,
   "id": "d804d9a8",
   "metadata": {},
   "outputs": [
    {
     "name": "stdout",
     "output_type": "stream",
     "text": [
      "BMI\n",
      "False    69349\n",
      "True       651\n",
      "Name: count, dtype: int64\n",
      "BMI\n",
      "False    44212\n",
      "True     25788\n",
      "Name: count, dtype: int64\n",
      "BMI\n",
      "False    44913\n",
      "True     25087\n",
      "Name: count, dtype: int64\n",
      "BMI\n",
      "False    51526\n",
      "True     18474\n",
      "Name: count, dtype: int64\n"
     ]
    }
   ],
   "source": [
    "cardio.loc[cardio[\"BMI\"] < 18.5, \"BMI\"] = 0\n",
    "cardio.loc[(cardio[\"BMI\"] >= 18.5) & (cardio[\"BMI\"] < 25), \"BMI\"] = 1\n",
    "cardio.loc[(cardio[\"BMI\"] >= 25) & (cardio[\"BMI\"] < 30), \"BMI\"] = 2\n",
    "cardio.loc[cardio[\"BMI\"] >= 30, \"BMI\"] = 3\n",
    "cardio['BMI'] = cardio['BMI'].astype('int')\n",
    "print((cardio['BMI']==0).value_counts())\n",
    "print((cardio['BMI']==1).value_counts())\n",
    "print((cardio['BMI']==2).value_counts())\n",
    "print((cardio['BMI']==3).value_counts())\n"
   ]
  },
  {
   "cell_type": "code",
   "execution_count": 12,
   "id": "d103a66a",
   "metadata": {},
   "outputs": [],
   "source": [
    "#Lets see the correlation between the features:\n",
    "corr_matrix = cardio.corr()"
   ]
  },
  {
   "cell_type": "code",
   "execution_count": 13,
   "id": "9a7b4041",
   "metadata": {},
   "outputs": [
    {
     "data": {
      "text/plain": [
       "cardio         1.000000\n",
       "age            0.238159\n",
       "cholesterol    0.221147\n",
       "BMI            0.185163\n",
       "weight         0.181656\n",
       "gluc           0.089307\n",
       "ap_lo          0.065719\n",
       "ap_hi          0.054475\n",
       "gender         0.008109\n",
       "id             0.003799\n",
       "alco          -0.007330\n",
       "height        -0.010821\n",
       "smoke         -0.015486\n",
       "active        -0.035653\n",
       "Name: cardio, dtype: float64"
      ]
     },
     "execution_count": 13,
     "metadata": {},
     "output_type": "execute_result"
    }
   ],
   "source": [
    "corr_matrix[\"cardio\"].sort_values(ascending=False)"
   ]
  },
  {
   "cell_type": "code",
   "execution_count": 14,
   "id": "8abb3625",
   "metadata": {},
   "outputs": [
    {
     "data": {
      "image/png": "[encoded data removed]",
      "text/plain": [
       "<Figure size 1800x800 with 2 Axes>"
      ]
     },
     "metadata": {},
     "output_type": "display_data"
    }
   ],
   "source": [
    "# Lets draw the Correlation matrix to understand relation between variables\n",
    "\n",
    "plt.figure(figsize=(18, 8))\n",
    "sns.heatmap(corr_matrix, vmin=-1, vmax=1, annot=True, cmap='crest') \n",
    "plt.title('Correlation Map', fontdict={'fontsize':14}, pad=10);"
   ]
  },
  {
   "cell_type": "code",
   "execution_count": 15,
   "id": "9d30e018",
   "metadata": {},
   "outputs": [],
   "source": [
    "#As we can see above, we have the ID Feature that has nearly 0 correlation to the target, \n",
    "#so it may affect badly on the model's accuracy, so Lets Drop it:\n",
    "cardio.drop(\"id\", axis='columns', inplace = True)"
   ]
  },
  {
   "cell_type": "code",
   "execution_count": 16,
   "id": "6bc1804a",
   "metadata": {},
   "outputs": [
    {
     "data": {
      "image/png": "[encoded data removed]",
      "text/plain": [
       "<Figure size 1000x700 with 1 Axes>"
      ]
     },
     "metadata": {},
     "output_type": "display_data"
    }
   ],
   "source": [
    "#As we see from the corrilation between the features, the most correlated feature to the target is the age,\n",
    "#So let's draw a figure to see the connection between the age and the target:\n",
    "from matplotlib import rcParams\n",
    "rcParams['figure.figsize'] = 10, 7\n",
    "#Converting the age from days to years:\n",
    "cardio['age'] = (cardio['age'] / 365).round().astype('int')\n",
    "sns.countplot(x='age', hue='cardio', data = cardio, palette=(\"husl\"));\n",
    "plt.title('Age and Cardio Relation', fontdict={'fontsize':14}, pad=10);"
   ]
  },
  {
   "cell_type": "markdown",
   "id": "4050cccb",
   "metadata": {},
   "source": [
    "<h5 style=\"color:blue;\"> As we see in the graph above, after the age of 55 years, the chance of \n",
    "cardio-diseases increases, and the count of being exposed to cardio-diseases is higher than being healthy.</h5>"
   ]
  },
  {
   "cell_type": "code",
   "execution_count": 17,
   "id": "5ecc91ec",
   "metadata": {},
   "outputs": [
    {
     "data": {
      "image/png": "[encoded data removed]",
      "text/plain": [
       "<Figure size 1000x700 with 1 Axes>"
      ]
     },
     "metadata": {},
     "output_type": "display_data"
    }
   ],
   "source": [
    "#Let's plot the diffrence between females and males of being exposed to cardio:\n",
    "sns.countplot(x='gender', data=cardio, hue='cardio', palette=(\"blend:#7AB,#EDA\"))\n",
    "plt.title('chance of cardio-diseases for males and females', fontdict={'fontsize':14}, pad=10);\n",
    "plt.show()"
   ]
  },
  {
   "cell_type": "markdown",
   "id": "3b3e0360",
   "metadata": {},
   "source": [
    "<h5 style=\"color:blue;\">\n",
    "As we see above, Not much of a difference between females (1) and males (2) in the chance\n",
    "of getting cardio-disease.\n",
    "</h5>"
   ]
  },
  {
   "cell_type": "code",
   "execution_count": 18,
   "id": "1bc74dec",
   "metadata": {},
   "outputs": [
    {
     "data": {
      "text/plain": [
       "3820"
      ]
     },
     "execution_count": 18,
     "metadata": {},
     "output_type": "execute_result"
    }
   ],
   "source": [
    "#Let's see if there are duplicated rows\n",
    "cardio.duplicated().sum()"
   ]
  },
  {
   "cell_type": "code",
   "execution_count": 19,
   "id": "042a632f",
   "metadata": {},
   "outputs": [
    {
     "name": "stdout",
     "output_type": "stream",
     "text": [
      "       age  gender  height  weight  ap_hi  ap_lo  cholesterol  gluc  smoke  \\\n",
      "798     64       2     173      90    120     80            1     1      0   \n",
      "1405    48       2     167      84    120     80            1     1      0   \n",
      "4435    48       2     175      98    120     80            1     1      0   \n",
      "4800    58       2     174     105    120     90            1     1      0   \n",
      "4898    64       2     170      90    140     90            1     1      0   \n",
      "...    ...     ...     ...     ...    ...    ...          ...   ...    ...   \n",
      "69922   42       1     165      62    100     60            1     1      0   \n",
      "69951   42       1     158      55    110     70            1     1      0   \n",
      "69988   60       1     160      59    110     70            1     1      0   \n",
      "51036   48       1     162      48    120     80            1     1      0   \n",
      "69733   48       1     162      48    120     80            1     1      0   \n",
      "\n",
      "       alco  active  cardio  BMI  \n",
      "798       0       1       1    3  \n",
      "1405      0       1       0    3  \n",
      "4435      0       1       0    3  \n",
      "4800      0       0       1    3  \n",
      "4898      0       1       1    3  \n",
      "...     ...     ...     ...  ...  \n",
      "69922     0       1       0    1  \n",
      "69951     0       1       0    1  \n",
      "69988     0       1       0    1  \n",
      "51036     0       1       0    0  \n",
      "69733     0       1       0    0  \n",
      "\n",
      "[6422 rows x 13 columns]\n"
     ]
    }
   ],
   "source": [
    "#As we see, we have 24 rows are being duplicated many times by other records, let's take a look at them:\n",
    "duplicated = cardio[cardio.duplicated(keep=False)]\n",
    "duplicated = duplicated.sort_values(by=['gender', 'BMI'], ascending= False)\n",
    "print(duplicated)"
   ]
  },
  {
   "cell_type": "code",
   "execution_count": 20,
   "id": "06b4792e",
   "metadata": {},
   "outputs": [
    {
     "data": {
      "text/plain": [
       "0"
      ]
     },
     "execution_count": 20,
     "metadata": {},
     "output_type": "execute_result"
    }
   ],
   "source": [
    "#Let's drop the duplicated rows and we'll keep the first appearence of them only:\n",
    "cardio.drop_duplicates(keep = 'first', inplace = True)\n",
    "cardio.duplicated().sum()"
   ]
  },
  {
   "cell_type": "code",
   "execution_count": 21,
   "id": "2d15f4cd",
   "metadata": {},
   "outputs": [
    {
     "name": "stdout",
     "output_type": "stream",
     "text": [
      "WARNING:tensorflow:From C:\\Users\\Hamza\\AppData\\Roaming\\Python\\Python311\\site-packages\\keras\\src\\losses.py:2976: The name tf.losses.sparse_softmax_cross_entropy is deprecated. Please use tf.compat.v1.losses.sparse_softmax_cross_entropy instead.\n",
      "\n"
     ]
    }
   ],
   "source": [
    "import tensorflow as tf\n",
    "assert tf.__version__ >= \"2.0\"\n",
    "\n",
    "import tensorflow as tf\n",
    "from tensorflow import keras\n",
    "\n",
    "from keras.layers import Dense   # Dense layers for the neural network\n",
    "from keras.layers import Dropout\n",
    "\n",
    "from keras.models import Sequential"
   ]
  },
  {
   "cell_type": "markdown",
   "id": "fe6ac70b",
   "metadata": {},
   "source": [
    "<h3>Split the data</h3>"
   ]
  },
  {
   "cell_type": "code",
   "execution_count": 22,
   "id": "96d093b8",
   "metadata": {},
   "outputs": [],
   "source": [
    "from sklearn.model_selection import train_test_split\n",
    "\n",
    "#Splitting the data into train and test sets:\n",
    "trainFull_set, test_set = train_test_split(cardio, test_size=0.15, random_state=42)\n",
    "\n",
    "#Splitting the data into features and lables for train_set:\n",
    "X_train_full = trainFull_set.drop(\"cardio\", axis='columns')\n",
    "y_train_full  = trainFull_set[\"cardio\"].copy()\n",
    "\n",
    "#Splitting the train set into train and validation sets:\n",
    "X_valid, X_train = X_train_full[:5000], X_train_full[5000:]\n",
    "y_valid, y_train = y_train_full[:5000], y_train_full[5000:]\n",
    "\n",
    "#Splitting the data into features and lables for test_set:\n",
    "X_test = test_set.drop(\"cardio\", axis='columns')\n",
    "y_test = test_set[\"cardio\"].copy()\n",
    "\n",
    "\n",
    "\n"
   ]
  },
  {
   "cell_type": "markdown",
   "id": "018eaa20",
   "metadata": {},
   "source": [
    "<h2> Scaling</h2>"
   ]
  },
  {
   "cell_type": "code",
   "execution_count": 23,
   "id": "688cdd34",
   "metadata": {},
   "outputs": [],
   "source": [
    "from sklearn.preprocessing import StandardScaler\n",
    "scaler = StandardScaler()\n",
    "X_train_full = scaler.fit_transform(X_train_full)\n",
    "X_train = scaler.transform(X_train)\n",
    "X_valid = scaler.transform(X_valid)\n",
    "X_test = scaler.transform(X_test)"
   ]
  },
  {
   "cell_type": "code",
   "execution_count": 24,
   "id": "035d577a",
   "metadata": {},
   "outputs": [
    {
     "data": {
      "text/plain": [
       "(51253, 12)"
      ]
     },
     "execution_count": 24,
     "metadata": {},
     "output_type": "execute_result"
    }
   ],
   "source": [
    "X_train.shape"
   ]
  },
  {
   "cell_type": "code",
   "execution_count": 25,
   "id": "b26e0211",
   "metadata": {},
   "outputs": [
    {
     "name": "stdout",
     "output_type": "stream",
     "text": [
      "cardio\n",
      "1    0.513746\n",
      "0    0.486254\n",
      "Name: proportion, dtype: float64\n",
      "cardio\n",
      "1    0.5132\n",
      "0    0.4868\n",
      "Name: proportion, dtype: float64\n",
      "cardio\n",
      "1    0.513247\n",
      "0    0.486753\n",
      "Name: proportion, dtype: float64\n"
     ]
    }
   ],
   "source": [
    "#Making sure that the labels have the same weight on all labels lists\n",
    "print(y_train.value_counts(normalize=True))\n",
    "print(y_valid.value_counts(normalize=True))\n",
    "print(y_test.value_counts(normalize=True))"
   ]
  },
  {
   "cell_type": "code",
   "execution_count": 26,
   "id": "d7820ffb",
   "metadata": {},
   "outputs": [],
   "source": [
    "#Since most of the papers uses classical techniques, let's try them and then build Nueral Network model \n",
    "#And compare them to find the best model to use.\n"
   ]
  },
  {
   "cell_type": "markdown",
   "id": "7708d04a",
   "metadata": {},
   "source": [
    "<h1>Training Models </h1>"
   ]
  },
  {
   "cell_type": "markdown",
   "id": "fc3ab0a2",
   "metadata": {},
   "source": [
    "<h3 style=\"color:green;\" >1. Classical-Techniques</h3>"
   ]
  },
  {
   "cell_type": "code",
   "execution_count": 27,
   "id": "5e9ef5aa",
   "metadata": {},
   "outputs": [],
   "source": [
    "#Let's use the ensemble Learning to vote out of 3 classifiers:\n",
    "from sklearn.ensemble import RandomForestClassifier\n",
    "from sklearn.naive_bayes import GaussianNB\n",
    "from sklearn.linear_model import LinearRegression\n",
    "from sklearn.svm import SVC\n",
    "from sklearn.neighbors import KNeighborsClassifier\n",
    "from xgboost import XGBClassifier\n",
    "\n",
    "from sklearn.ensemble import VotingClassifier\n",
    "\n",
    "svc_clf = SVC(C=100, gamma=0.00001, kernel=\"rbf\", random_state=42)\n",
    "\n",
    "random_clf = RandomForestClassifier(n_estimators=100,\n",
    "                          max_depth=10,\n",
    "                          random_state=0)\n",
    "\n",
    "xgbc_clf = XGBClassifier(n_estimators=150)\n",
    "\n",
    "voting_clf = VotingClassifier(\n",
    "    estimators=[('xgbc', xgbc_clf), ('rf', random_clf), ('svc', svc_clf)],\n",
    "    voting='hard')"
   ]
  },
  {
   "cell_type": "code",
   "execution_count": 28,
   "id": "fdc119cc",
   "metadata": {},
   "outputs": [
    {
     "data": {
      "text/html": [
       "<style>#sk-container-id-1 {color: black;}#sk-container-id-1 pre{padding: 0;}#sk-container-id-1 div.sk-toggleable {background-color: white;}#sk-container-id-1 label.sk-toggleable__label {cursor: pointer;display: block;width: 100%;margin-bottom: 0;padding: 0.3em;box-sizing: border-box;text-align: center;}#sk-container-id-1 label.sk-toggleable__label-arrow:before {content: \"▸\";float: left;margin-right: 0.25em;color: #696969;}#sk-container-id-1 label.sk-toggleable__label-arrow:hover:before {color: black;}#sk-container-id-1 div.sk-estimator:hover label.sk-toggleable__label-arrow:before {color: black;}#sk-container-id-1 div.sk-toggleable__content {max-height: 0;max-width: 0;overflow: hidden;text-align: left;background-color: #f0f8ff;}#sk-container-id-1 div.sk-toggleable__content pre {margin: 0.2em;color: black;border-radius: 0.25em;background-color: #f0f8ff;}#sk-container-id-1 input.sk-toggleable__control:checked~div.sk-toggleable__content {max-height: 200px;max-width: 100%;overflow: auto;}#sk-container-id-1 input.sk-toggleable__control:checked~label.sk-toggleable__label-arrow:before {content: \"▾\";}#sk-container-id-1 div.sk-estimator input.sk-toggleable__control:checked~label.sk-toggleable__label {background-color: #d4ebff;}#sk-container-id-1 div.sk-label input.sk-toggleable__control:checked~label.sk-toggleable__label {background-color: #d4ebff;}#sk-container-id-1 input.sk-hidden--visually {border: 0;clip: rect(1px 1px 1px 1px);clip: rect(1px, 1px, 1px, 1px);height: 1px;margin: -1px;overflow: hidden;padding: 0;position: absolute;width: 1px;}#sk-container-id-1 div.sk-estimator {font-family: monospace;background-color: #f0f8ff;border: 1px dotted black;border-radius: 0.25em;box-sizing: border-box;margin-bottom: 0.5em;}#sk-container-id-1 div.sk-estimator:hover {background-color: #d4ebff;}#sk-container-id-1 div.sk-parallel-item::after {content: \"\";width: 100%;border-bottom: 1px solid gray;flex-grow: 1;}#sk-container-id-1 div.sk-label:hover label.sk-toggleable__label {background-color: #d4ebff;}#sk-container-id-1 div.sk-serial::before {content: \"\";position: absolute;border-left: 1px solid gray;box-sizing: border-box;top: 0;bottom: 0;left: 50%;z-index: 0;}#sk-container-id-1 div.sk-serial {display: flex;flex-direction: column;align-items: center;background-color: white;padding-right: 0.2em;padding-left: 0.2em;position: relative;}#sk-container-id-1 div.sk-item {position: relative;z-index: 1;}#sk-container-id-1 div.sk-parallel {display: flex;align-items: stretch;justify-content: center;background-color: white;position: relative;}#sk-container-id-1 div.sk-item::before, #sk-container-id-1 div.sk-parallel-item::before {content: \"\";position: absolute;border-left: 1px solid gray;box-sizing: border-box;top: 0;bottom: 0;left: 50%;z-index: -1;}#sk-container-id-1 div.sk-parallel-item {display: flex;flex-direction: column;z-index: 1;position: relative;background-color: white;}#sk-container-id-1 div.sk-parallel-item:first-child::after {align-self: flex-end;width: 50%;}#sk-container-id-1 div.sk-parallel-item:last-child::after {align-self: flex-start;width: 50%;}#sk-container-id-1 div.sk-parallel-item:only-child::after {width: 0;}#sk-container-id-1 div.sk-dashed-wrapped {border: 1px dashed gray;margin: 0 0.4em 0.5em 0.4em;box-sizing: border-box;padding-bottom: 0.4em;background-color: white;}#sk-container-id-1 div.sk-label label {font-family: monospace;font-weight: bold;display: inline-block;line-height: 1.2em;}#sk-container-id-1 div.sk-label-container {text-align: center;}#sk-container-id-1 div.sk-container {/* jupyter's `normalize.less` sets `[hidden] { display: none; }` but bootstrap.min.css set `[hidden] { display: none !important; }` so we also need the `!important` here to be able to override the default hidden behavior on the sphinx rendered scikit-learn.org. See: https://github.com/scikit-learn/scikit-learn/issues/21755 */display: inline-block !important;position: relative;}#sk-container-id-1 div.sk-text-repr-fallback {display: none;}</style><div id=\"sk-container-id-1\" class=\"sk-top-container\"><div class=\"sk-text-repr-fallback\"><pre>VotingClassifier(estimators=[(&#x27;xgbc&#x27;,\n",
       "                              XGBClassifier(base_score=None, booster=None,\n",
       "                                            callbacks=None,\n",
       "                                            colsample_bylevel=None,\n",
       "                                            colsample_bynode=None,\n",
       "                                            colsample_bytree=None, device=None,\n",
       "                                            early_stopping_rounds=None,\n",
       "                                            enable_categorical=False,\n",
       "                                            eval_metric=None,\n",
       "                                            feature_types=None, gamma=None,\n",
       "                                            grow_policy=None,\n",
       "                                            importance_type=None,\n",
       "                                            interaction_constraints=None,\n",
       "                                            learning_r...\n",
       "                                            max_cat_threshold=None,\n",
       "                                            max_cat_to_onehot=None,\n",
       "                                            max_delta_step=None, max_depth=None,\n",
       "                                            max_leaves=None,\n",
       "                                            min_child_weight=None, missing=nan,\n",
       "                                            monotone_constraints=None,\n",
       "                                            multi_strategy=None,\n",
       "                                            n_estimators=150, n_jobs=None,\n",
       "                                            num_parallel_tree=None,\n",
       "                                            random_state=None, ...)),\n",
       "                             (&#x27;rf&#x27;,\n",
       "                              RandomForestClassifier(max_depth=10,\n",
       "                                                     random_state=0)),\n",
       "                             (&#x27;svc&#x27;, SVC(C=100, gamma=1e-05, random_state=42))])</pre><b>In a Jupyter environment, please rerun this cell to show the HTML representation or trust the notebook. <br />On GitHub, the HTML representation is unable to render, please try loading this page with nbviewer.org.</b></div><div class=\"sk-container\" hidden><div class=\"sk-item sk-dashed-wrapped\"><div class=\"sk-label-container\"><div class=\"sk-label sk-toggleable\"><input class=\"sk-toggleable__control sk-hidden--visually\" id=\"sk-estimator-id-1\" type=\"checkbox\" ><label for=\"sk-estimator-id-1\" class=\"sk-toggleable__label sk-toggleable__label-arrow\">VotingClassifier</label><div class=\"sk-toggleable__content\"><pre>VotingClassifier(estimators=[(&#x27;xgbc&#x27;,\n",
       "                              XGBClassifier(base_score=None, booster=None,\n",
       "                                            callbacks=None,\n",
       "                                            colsample_bylevel=None,\n",
       "                                            colsample_bynode=None,\n",
       "                                            colsample_bytree=None, device=None,\n",
       "                                            early_stopping_rounds=None,\n",
       "                                            enable_categorical=False,\n",
       "                                            eval_metric=None,\n",
       "                                            feature_types=None, gamma=None,\n",
       "                                            grow_policy=None,\n",
       "                                            importance_type=None,\n",
       "                                            interaction_constraints=None,\n",
       "                                            learning_r...\n",
       "                                            max_cat_threshold=None,\n",
       "                                            max_cat_to_onehot=None,\n",
       "                                            max_delta_step=None, max_depth=None,\n",
       "                                            max_leaves=None,\n",
       "                                            min_child_weight=None, missing=nan,\n",
       "                                            monotone_constraints=None,\n",
       "                                            multi_strategy=None,\n",
       "                                            n_estimators=150, n_jobs=None,\n",
       "                                            num_parallel_tree=None,\n",
       "                                            random_state=None, ...)),\n",
       "                             (&#x27;rf&#x27;,\n",
       "                              RandomForestClassifier(max_depth=10,\n",
       "                                                     random_state=0)),\n",
       "                             (&#x27;svc&#x27;, SVC(C=100, gamma=1e-05, random_state=42))])</pre></div></div></div><div class=\"sk-parallel\"><div class=\"sk-parallel-item\"><div class=\"sk-item\"><div class=\"sk-label-container\"><div class=\"sk-label sk-toggleable\"><label>xgbc</label></div></div><div class=\"sk-serial\"><div class=\"sk-item\"><div class=\"sk-estimator sk-toggleable\"><input class=\"sk-toggleable__control sk-hidden--visually\" id=\"sk-estimator-id-2\" type=\"checkbox\" ><label for=\"sk-estimator-id-2\" class=\"sk-toggleable__label sk-toggleable__label-arrow\">XGBClassifier</label><div class=\"sk-toggleable__content\"><pre>XGBClassifier(base_score=None, booster=None, callbacks=None,\n",
       "              colsample_bylevel=None, colsample_bynode=None,\n",
       "              colsample_bytree=None, device=None, early_stopping_rounds=None,\n",
       "              enable_categorical=False, eval_metric=None, feature_types=None,\n",
       "              gamma=None, grow_policy=None, importance_type=None,\n",
       "              interaction_constraints=None, learning_rate=None, max_bin=None,\n",
       "              max_cat_threshold=None, max_cat_to_onehot=None,\n",
       "              max_delta_step=None, max_depth=None, max_leaves=None,\n",
       "              min_child_weight=None, missing=nan, monotone_constraints=None,\n",
       "              multi_strategy=None, n_estimators=150, n_jobs=None,\n",
       "              num_parallel_tree=None, random_state=None, ...)</pre></div></div></div></div></div></div><div class=\"sk-parallel-item\"><div class=\"sk-item\"><div class=\"sk-label-container\"><div class=\"sk-label sk-toggleable\"><label>rf</label></div></div><div class=\"sk-serial\"><div class=\"sk-item\"><div class=\"sk-estimator sk-toggleable\"><input class=\"sk-toggleable__control sk-hidden--visually\" id=\"sk-estimator-id-3\" type=\"checkbox\" ><label for=\"sk-estimator-id-3\" class=\"sk-toggleable__label sk-toggleable__label-arrow\">RandomForestClassifier</label><div class=\"sk-toggleable__content\"><pre>RandomForestClassifier(max_depth=10, random_state=0)</pre></div></div></div></div></div></div><div class=\"sk-parallel-item\"><div class=\"sk-item\"><div class=\"sk-label-container\"><div class=\"sk-label sk-toggleable\"><label>svc</label></div></div><div class=\"sk-serial\"><div class=\"sk-item\"><div class=\"sk-estimator sk-toggleable\"><input class=\"sk-toggleable__control sk-hidden--visually\" id=\"sk-estimator-id-4\" type=\"checkbox\" ><label for=\"sk-estimator-id-4\" class=\"sk-toggleable__label sk-toggleable__label-arrow\">SVC</label><div class=\"sk-toggleable__content\"><pre>SVC(C=100, gamma=1e-05, random_state=42)</pre></div></div></div></div></div></div></div></div></div></div>"
      ],
      "text/plain": [
       "VotingClassifier(estimators=[('xgbc',\n",
       "                              XGBClassifier(base_score=None, booster=None,\n",
       "                                            callbacks=None,\n",
       "                                            colsample_bylevel=None,\n",
       "                                            colsample_bynode=None,\n",
       "                                            colsample_bytree=None, device=None,\n",
       "                                            early_stopping_rounds=None,\n",
       "                                            enable_categorical=False,\n",
       "                                            eval_metric=None,\n",
       "                                            feature_types=None, gamma=None,\n",
       "                                            grow_policy=None,\n",
       "                                            importance_type=None,\n",
       "                                            interaction_constraints=None,\n",
       "                                            learning_r...\n",
       "                                            max_cat_threshold=None,\n",
       "                                            max_cat_to_onehot=None,\n",
       "                                            max_delta_step=None, max_depth=None,\n",
       "                                            max_leaves=None,\n",
       "                                            min_child_weight=None, missing=nan,\n",
       "                                            monotone_constraints=None,\n",
       "                                            multi_strategy=None,\n",
       "                                            n_estimators=150, n_jobs=None,\n",
       "                                            num_parallel_tree=None,\n",
       "                                            random_state=None, ...)),\n",
       "                             ('rf',\n",
       "                              RandomForestClassifier(max_depth=10,\n",
       "                                                     random_state=0)),\n",
       "                             ('svc', SVC(C=100, gamma=1e-05, random_state=42))])"
      ]
     },
     "execution_count": 28,
     "metadata": {},
     "output_type": "execute_result"
    }
   ],
   "source": [
    "voting_clf.fit(X_train_full, y_train_full)"
   ]
  },
  {
   "cell_type": "code",
   "execution_count": 29,
   "id": "f39bd9b9",
   "metadata": {},
   "outputs": [
    {
     "data": {
      "text/plain": [
       "array([0, 0, 1, ..., 0, 0, 0], dtype=int64)"
      ]
     },
     "execution_count": 29,
     "metadata": {},
     "output_type": "execute_result"
    }
   ],
   "source": [
    "#Let's print the accuracy of the voting classifier\n",
    "from sklearn.metrics import accuracy_score\n",
    "y_pred = voting_clf.predict(X_test)\n",
    "score_classical = accuracy_score(y_test, y_pred)\n",
    "score_classical\n",
    "y_pred"
   ]
  },
  {
   "cell_type": "markdown",
   "id": "6676759a",
   "metadata": {},
   "source": [
    "<h4 style=\"color:blue;\">We see that the accuracy is 73%, which is almost the maximum accuracy \n",
    "we've found on the papers made on this dataset.</h4>\n",
    "<h1></h1>"
   ]
  },
  {
   "cell_type": "code",
   "execution_count": 352,
   "id": "01b0fcdf",
   "metadata": {},
   "outputs": [
    {
     "data": {
      "text/plain": [
       "array([[3620, 1212],\n",
       "       [1476, 3619]], dtype=int64)"
      ]
     },
     "execution_count": 352,
     "metadata": {},
     "output_type": "execute_result"
    }
   ],
   "source": [
    "#Let's see the confusion matrix\n",
    "from sklearn.metrics import confusion_matrix\n",
    "\n",
    "conf = confusion_matrix(y_test, y_pred)\n",
    "conf"
   ]
  },
  {
   "cell_type": "code",
   "execution_count": 353,
   "id": "e79aba3b",
   "metadata": {},
   "outputs": [
    {
     "data": {
      "image/png": "[encoded data removed]",
      "text/plain": [
       "<Figure size 800x500 with 2 Axes>"
      ]
     },
     "metadata": {},
     "output_type": "display_data"
    }
   ],
   "source": [
    "#Let's draw the confusion matrix:\n",
    "conf_matrix=pd.DataFrame(data=conf,columns=['Predicted:0','Predicted:1'],index=['Actual:0','Actual:1'])\n",
    "plt.figure(figsize = (8,5))\n",
    "sns.heatmap(conf_matrix, annot=True,fmt='d',cmap=\"PuBuGn\");"
   ]
  },
  {
   "cell_type": "code",
   "execution_count": 355,
   "id": "c2aa8a79",
   "metadata": {},
   "outputs": [
    {
     "data": {
      "text/plain": [
       "0.7491202649554958"
      ]
     },
     "execution_count": 355,
     "metadata": {},
     "output_type": "execute_result"
    }
   ],
   "source": [
    "precision_score(y_test, y_pred)"
   ]
  },
  {
   "cell_type": "code",
   "execution_count": 356,
   "id": "5debc85e",
   "metadata": {},
   "outputs": [
    {
     "data": {
      "text/plain": [
       "0.7103042198233562"
      ]
     },
     "execution_count": 356,
     "metadata": {},
     "output_type": "execute_result"
    }
   ],
   "source": [
    "#Let's see the recall:\n",
    "recall_classical = recall_score(y_test, y_pred)\n",
    "recall_classical"
   ]
  },
  {
   "cell_type": "markdown",
   "id": "67115d31",
   "metadata": {},
   "source": [
    "<h4 style=\"color:blue;\">\n",
    "Bad recall, we'll try to fix it once we find the best model, (the Neural network model)\n",
    "</h4>\n",
    "<h1></h1>"
   ]
  },
  {
   "cell_type": "markdown",
   "id": "542a7b87",
   "metadata": {},
   "source": [
    "<h3 style=\"color:green;\" >2. Neural Network</h3>"
   ]
  },
  {
   "cell_type": "code",
   "execution_count": 98,
   "id": "212eb692",
   "metadata": {},
   "outputs": [],
   "source": [
    "#Now, Let's use Neural Network:\n",
    "model = keras.models.Sequential()\n",
    "#Let's use the selu activation function\n",
    "model.add(keras.layers.Dense(10, activation=\"selu\", kernel_initializer = 'lecun_normal', input_shape=(12,)))\n",
    "model.add(keras.layers.Dense(1, activation=\"sigmoid\"))"
   ]
  },
  {
   "cell_type": "code",
   "execution_count": 99,
   "id": "3fb9d003",
   "metadata": {},
   "outputs": [
    {
     "name": "stdout",
     "output_type": "stream",
     "text": [
      "Model: \"sequential_42\"\n",
      "_________________________________________________________________\n",
      " Layer (type)                Output Shape              Param #   \n",
      "=================================================================\n",
      " dense_116 (Dense)           (None, 10)                130       \n",
      "                                                                 \n",
      " dense_117 (Dense)           (None, 1)                 11        \n",
      "                                                                 \n",
      "=================================================================\n",
      "Total params: 141\n",
      "Trainable params: 141\n",
      "Non-trainable params: 0\n",
      "_________________________________________________________________\n"
     ]
    }
   ],
   "source": [
    "model.summary()"
   ]
  },
  {
   "cell_type": "code",
   "execution_count": 100,
   "id": "ca5cc19c",
   "metadata": {},
   "outputs": [],
   "source": [
    "from sklearn import metrics   # Allows us to view accuracy and other such values\n",
    "from keras import optimizers\n",
    "#Let's try SGD optimizer1\n",
    "opt = optimizers.SGD(learning_rate=0.001)\n",
    "model.compile(loss=\"binary_crossentropy\",\n",
    "              optimizer=opt,\n",
    "              metrics=['accuracy'])"
   ]
  },
  {
   "cell_type": "code",
   "execution_count": 113,
   "id": "301f9c2d",
   "metadata": {},
   "outputs": [
    {
     "name": "stdout",
     "output_type": "stream",
     "text": [
      "Epoch 1/60\n",
      "3417/3417 [==============================] - 3s 832us/step - loss: 0.5664 - accuracy: 0.7246 - val_loss: 0.5639 - val_accuracy: 0.7188\n",
      "Epoch 2/60\n",
      "3417/3417 [==============================] - 3s 805us/step - loss: 0.5662 - accuracy: 0.7243 - val_loss: 0.5641 - val_accuracy: 0.7204\n",
      "Epoch 3/60\n",
      "3417/3417 [==============================] - 3s 867us/step - loss: 0.5662 - accuracy: 0.7248 - val_loss: 0.5638 - val_accuracy: 0.7206\n",
      "Epoch 4/60\n",
      "3417/3417 [==============================] - 3s 862us/step - loss: 0.5661 - accuracy: 0.7242 - val_loss: 0.5640 - val_accuracy: 0.7184\n",
      "Epoch 5/60\n",
      "3417/3417 [==============================] - 3s 829us/step - loss: 0.5660 - accuracy: 0.7243 - val_loss: 0.5637 - val_accuracy: 0.7196\n",
      "Epoch 6/60\n",
      "3417/3417 [==============================] - 3s 853us/step - loss: 0.5659 - accuracy: 0.7246 - val_loss: 0.5634 - val_accuracy: 0.7196\n",
      "Epoch 7/60\n",
      "3417/3417 [==============================] - 3s 836us/step - loss: 0.5657 - accuracy: 0.7246 - val_loss: 0.5640 - val_accuracy: 0.7168\n",
      "Epoch 8/60\n",
      "3417/3417 [==============================] - 3s 877us/step - loss: 0.5657 - accuracy: 0.7245 - val_loss: 0.5636 - val_accuracy: 0.7222\n",
      "Epoch 9/60\n",
      "3417/3417 [==============================] - 3s 837us/step - loss: 0.5655 - accuracy: 0.7242 - val_loss: 0.5643 - val_accuracy: 0.7192\n",
      "Epoch 10/60\n",
      "3417/3417 [==============================] - 3s 912us/step - loss: 0.5656 - accuracy: 0.7247 - val_loss: 0.5640 - val_accuracy: 0.7196\n",
      "Epoch 11/60\n",
      "3417/3417 [==============================] - 3s 830us/step - loss: 0.5654 - accuracy: 0.7256 - val_loss: 0.5636 - val_accuracy: 0.7202\n",
      "Epoch 12/60\n",
      "3417/3417 [==============================] - 3s 836us/step - loss: 0.5654 - accuracy: 0.7240 - val_loss: 0.5633 - val_accuracy: 0.7230\n",
      "Epoch 13/60\n",
      "3417/3417 [==============================] - 3s 825us/step - loss: 0.5653 - accuracy: 0.7247 - val_loss: 0.5637 - val_accuracy: 0.7196\n",
      "Epoch 14/60\n",
      "3417/3417 [==============================] - 3s 830us/step - loss: 0.5652 - accuracy: 0.7253 - val_loss: 0.5636 - val_accuracy: 0.7192\n",
      "Epoch 15/60\n",
      "3417/3417 [==============================] - 3s 969us/step - loss: 0.5652 - accuracy: 0.7254 - val_loss: 0.5638 - val_accuracy: 0.7204\n",
      "Epoch 16/60\n",
      "3417/3417 [==============================] - 3s 837us/step - loss: 0.5650 - accuracy: 0.7249 - val_loss: 0.5629 - val_accuracy: 0.7198\n",
      "Epoch 17/60\n",
      "3417/3417 [==============================] - 3s 889us/step - loss: 0.5650 - accuracy: 0.7245 - val_loss: 0.5633 - val_accuracy: 0.7206\n",
      "Epoch 18/60\n",
      "3417/3417 [==============================] - 3s 865us/step - loss: 0.5649 - accuracy: 0.7253 - val_loss: 0.5631 - val_accuracy: 0.7212\n",
      "Epoch 19/60\n",
      "3417/3417 [==============================] - 3s 864us/step - loss: 0.5649 - accuracy: 0.7246 - val_loss: 0.5635 - val_accuracy: 0.7208\n",
      "Epoch 20/60\n",
      "3417/3417 [==============================] - 3s 823us/step - loss: 0.5648 - accuracy: 0.7246 - val_loss: 0.5635 - val_accuracy: 0.7200\n",
      "Epoch 21/60\n",
      "3417/3417 [==============================] - 3s 892us/step - loss: 0.5647 - accuracy: 0.7245 - val_loss: 0.5632 - val_accuracy: 0.7208\n",
      "Epoch 22/60\n",
      "3417/3417 [==============================] - 3s 906us/step - loss: 0.5647 - accuracy: 0.7245 - val_loss: 0.5631 - val_accuracy: 0.7212\n",
      "Epoch 23/60\n",
      "3417/3417 [==============================] - 3s 839us/step - loss: 0.5646 - accuracy: 0.7243 - val_loss: 0.5628 - val_accuracy: 0.7206\n",
      "Epoch 24/60\n",
      "3417/3417 [==============================] - 3s 821us/step - loss: 0.5645 - accuracy: 0.7245 - val_loss: 0.5630 - val_accuracy: 0.7206\n",
      "Epoch 25/60\n",
      "3417/3417 [==============================] - 3s 890us/step - loss: 0.5644 - accuracy: 0.7246 - val_loss: 0.5627 - val_accuracy: 0.7198\n",
      "Epoch 26/60\n",
      "3417/3417 [==============================] - 3s 864us/step - loss: 0.5644 - accuracy: 0.7248 - val_loss: 0.5631 - val_accuracy: 0.7184\n",
      "Epoch 27/60\n",
      "3417/3417 [==============================] - 3s 825us/step - loss: 0.5643 - accuracy: 0.7249 - val_loss: 0.5632 - val_accuracy: 0.7210\n",
      "Epoch 28/60\n",
      "3417/3417 [==============================] - 3s 837us/step - loss: 0.5642 - accuracy: 0.7252 - val_loss: 0.5631 - val_accuracy: 0.7190\n",
      "Epoch 29/60\n",
      "3417/3417 [==============================] - 3s 836us/step - loss: 0.5641 - accuracy: 0.7246 - val_loss: 0.5627 - val_accuracy: 0.7210\n",
      "Epoch 30/60\n",
      "3417/3417 [==============================] - 3s 829us/step - loss: 0.5641 - accuracy: 0.7242 - val_loss: 0.5626 - val_accuracy: 0.7224\n",
      "Epoch 31/60\n",
      "3417/3417 [==============================] - 3s 818us/step - loss: 0.5640 - accuracy: 0.7246 - val_loss: 0.5627 - val_accuracy: 0.7204\n",
      "Epoch 32/60\n",
      "3417/3417 [==============================] - 3s 844us/step - loss: 0.5639 - accuracy: 0.7255 - val_loss: 0.5633 - val_accuracy: 0.7194\n",
      "Epoch 33/60\n",
      "3417/3417 [==============================] - 3s 829us/step - loss: 0.5639 - accuracy: 0.7251 - val_loss: 0.5631 - val_accuracy: 0.7222\n",
      "Epoch 34/60\n",
      "3417/3417 [==============================] - 3s 877us/step - loss: 0.5637 - accuracy: 0.7251 - val_loss: 0.5627 - val_accuracy: 0.7216\n",
      "Epoch 35/60\n",
      "3417/3417 [==============================] - 3s 868us/step - loss: 0.5638 - accuracy: 0.7254 - val_loss: 0.5625 - val_accuracy: 0.7216\n",
      "Epoch 36/60\n",
      "3417/3417 [==============================] - 3s 903us/step - loss: 0.5637 - accuracy: 0.7247 - val_loss: 0.5629 - val_accuracy: 0.7196\n",
      "Epoch 37/60\n",
      "3417/3417 [==============================] - 3s 952us/step - loss: 0.5636 - accuracy: 0.7261 - val_loss: 0.5630 - val_accuracy: 0.7220\n",
      "Epoch 38/60\n",
      "3417/3417 [==============================] - 3s 905us/step - loss: 0.5636 - accuracy: 0.7250 - val_loss: 0.5632 - val_accuracy: 0.7210\n",
      "Epoch 39/60\n",
      "3417/3417 [==============================] - 3s 832us/step - loss: 0.5635 - accuracy: 0.7248 - val_loss: 0.5634 - val_accuracy: 0.7194\n",
      "Epoch 40/60\n",
      "3417/3417 [==============================] - 3s 879us/step - loss: 0.5635 - accuracy: 0.7244 - val_loss: 0.5631 - val_accuracy: 0.7204\n",
      "Epoch 41/60\n",
      "3417/3417 [==============================] - 3s 916us/step - loss: 0.5634 - accuracy: 0.7250 - val_loss: 0.5630 - val_accuracy: 0.7198\n",
      "Epoch 42/60\n",
      "3417/3417 [==============================] - 3s 915us/step - loss: 0.5633 - accuracy: 0.7247 - val_loss: 0.5629 - val_accuracy: 0.7192\n"
     ]
    }
   ],
   "source": [
    "#Let's save the model:\n",
    "checkpoint_cb = keras.callbacks.ModelCheckpoint(\"my_keras_model_B.h5\", save_best_only=True)\n",
    "\n",
    "#Let's use the Early stopping callback to stop at the best weights:\n",
    "early_stopping_cb = keras.callbacks.EarlyStopping(patience=7,\n",
    "                                                  restore_best_weights=True)\n",
    "history = model.fit(X_train, y_train, epochs=60,\n",
    "                    validation_data=(X_valid, y_valid), batch_size=15, callbacks=[checkpoint_cb, early_stopping_cb])"
   ]
  },
  {
   "cell_type": "code",
   "execution_count": 114,
   "id": "9aabb753",
   "metadata": {},
   "outputs": [
    {
     "name": "stdout",
     "output_type": "stream",
     "text": [
      "311/311 [==============================] - 0s 683us/step - loss: 0.5629 - accuracy: 0.7223\n"
     ]
    },
    {
     "data": {
      "text/plain": [
       "[0.5629187226295471, 0.7222725749015808]"
      ]
     },
     "execution_count": 114,
     "metadata": {},
     "output_type": "execute_result"
    }
   ],
   "source": [
    "#Let's see the accuracy on the test set:\n",
    "model.evaluate(X_test, y_test)"
   ]
  },
  {
   "cell_type": "markdown",
   "id": "e1ff2155",
   "metadata": {},
   "source": [
    "<h5 style=\"color:blue;\">The accuracy is 72.2%</h5>\n",
    "<h5 style=\"color:blue;\">Let's fine-tuen our model:</h5>"
   ]
  },
  {
   "cell_type": "markdown",
   "id": "15fd72bc",
   "metadata": {},
   "source": [
    "<h1></h1>\n",
    "<h2> Fine-tuning the model </h2>"
   ]
  },
  {
   "cell_type": "code",
   "execution_count": 318,
   "id": "51a0bc6e",
   "metadata": {},
   "outputs": [
    {
     "name": "stdout",
     "output_type": "stream",
     "text": [
      "Best: 0.726962 using {'model__neurons': 30}\n"
     ]
    }
   ],
   "source": [
    "from scipy.stats import reciprocal\n",
    "from sklearn.model_selection import RandomizedSearchCV\n",
    "from sklearn.model_selection import GridSearchCV\n",
    "from keras import optimizers\n",
    "\n",
    "def create_model(neurons):\n",
    " # create model\n",
    " model = Sequential()\n",
    " #Let's try the selu activation function\n",
    " model.add(Dense(neurons, input_shape=(12,), kernel_initializer='lecun_normal', activation='selu'))\n",
    " model.add(Dense(neurons, kernel_initializer='lecun_normal', activation='selu'))\n",
    " model.add(Dense(1, kernel_initializer='uniform', activation='sigmoid'))\n",
    " # Compile model\n",
    " #Let's try the momentum with the SGD\n",
    " model.compile(loss='binary_crossentropy', optimizer=optimizers.SGD(learning_rate=0.001, momentum=0.85), metrics=['accuracy'])\n",
    " return model\n",
    "\n",
    "model_tuned = KerasClassifier(model=create_model, epochs=60, batch_size=10, verbose=0)\n",
    "# define the grid search parameters\n",
    "neurons = [10, 20, 30, 40]\n",
    "param_grid = dict(model__neurons=neurons)\n",
    "grid = GridSearchCV(estimator=model_tuned, param_grid=param_grid, n_jobs=-1, cv=3)\n",
    "grid_result = grid.fit(X_train, y_train)\n",
    "# summarize results\n",
    "print(\"Best: %f using %s\" % (grid_result.best_score_, grid_result.best_params_))\n",
    " \n"
   ]
  },
  {
   "cell_type": "code",
   "execution_count": 319,
   "id": "5e5ab08c",
   "metadata": {},
   "outputs": [],
   "source": [
    "model_neurons = grid.best_estimator_"
   ]
  },
  {
   "cell_type": "code",
   "execution_count": 321,
   "id": "c5a068f0",
   "metadata": {},
   "outputs": [
    {
     "data": {
      "text/plain": [
       "0.7162284678150499"
      ]
     },
     "execution_count": 321,
     "metadata": {},
     "output_type": "execute_result"
    }
   ],
   "source": [
    "#Let's test the best model on the test set:\n",
    "model_neurons.score(X_test, y_test)"
   ]
  },
  {
   "cell_type": "code",
   "execution_count": 333,
   "id": "907a8fa3",
   "metadata": {},
   "outputs": [],
   "source": [
    "#Accuracy on train set is 72%, let's use the early stopping on a new model that has the same network \n",
    "#as the best output of the grid swarch:\n",
    "model3 = Sequential()\n",
    "#For the first layer, use the same neurons as the best models\n",
    "model3.add(Dense(30, input_shape=(12,), kernel_initializer='lecun_normal', activation='selu'))\n",
    "\n",
    "model3.add(Dense(30, kernel_initializer='lecun_normal', activation='selu'))\n",
    "\n",
    "model3.add(Dense(1, activation='sigmoid'))\n",
    "# Compile model\n",
    "model3.compile(loss='binary_crossentropy', \n",
    "               optimizer=optimizers.SGD(learning_rate=0.001, momentum=0.85), metrics=['accuracy'])"
   ]
  },
  {
   "cell_type": "code",
   "execution_count": 334,
   "id": "60c1f89e",
   "metadata": {},
   "outputs": [
    {
     "name": "stdout",
     "output_type": "stream",
     "text": [
      "Epoch 1/70\n",
      "3417/3417 [==============================] - 4s 972us/step - loss: 0.6230 - accuracy: 0.6567 - val_loss: 0.5964 - val_accuracy: 0.6840\n",
      "Epoch 2/70\n",
      "3417/3417 [==============================] - 3s 914us/step - loss: 0.5898 - accuracy: 0.6975 - val_loss: 0.5756 - val_accuracy: 0.7102\n",
      "Epoch 3/70\n",
      "3417/3417 [==============================] - 3s 996us/step - loss: 0.5778 - accuracy: 0.7105 - val_loss: 0.5720 - val_accuracy: 0.7116\n",
      "Epoch 4/70\n",
      "3417/3417 [==============================] - 3s 954us/step - loss: 0.5720 - accuracy: 0.7161 - val_loss: 0.5668 - val_accuracy: 0.7146\n",
      "Epoch 5/70\n",
      "3417/3417 [==============================] - 3s 1ms/step - loss: 0.5691 - accuracy: 0.7192 - val_loss: 0.5667 - val_accuracy: 0.7146\n",
      "Epoch 6/70\n",
      "3417/3417 [==============================] - 3s 1ms/step - loss: 0.5675 - accuracy: 0.7202 - val_loss: 0.5646 - val_accuracy: 0.7170\n",
      "Epoch 7/70\n",
      "3417/3417 [==============================] - 3s 983us/step - loss: 0.5670 - accuracy: 0.7209 - val_loss: 0.5652 - val_accuracy: 0.7166\n",
      "Epoch 8/70\n",
      "3417/3417 [==============================] - 3s 957us/step - loss: 0.5658 - accuracy: 0.7218 - val_loss: 0.5632 - val_accuracy: 0.7172\n",
      "Epoch 9/70\n",
      "3417/3417 [==============================] - 3s 948us/step - loss: 0.5647 - accuracy: 0.7227 - val_loss: 0.5605 - val_accuracy: 0.7172\n",
      "Epoch 10/70\n",
      "3417/3417 [==============================] - 3s 961us/step - loss: 0.5641 - accuracy: 0.7225 - val_loss: 0.5619 - val_accuracy: 0.7170\n",
      "Epoch 11/70\n",
      "3417/3417 [==============================] - 3s 971us/step - loss: 0.5638 - accuracy: 0.7228 - val_loss: 0.5602 - val_accuracy: 0.7172\n",
      "Epoch 12/70\n",
      "3417/3417 [==============================] - 3s 991us/step - loss: 0.5631 - accuracy: 0.7231 - val_loss: 0.5601 - val_accuracy: 0.7212\n",
      "Epoch 13/70\n",
      "3417/3417 [==============================] - 3s 975us/step - loss: 0.5624 - accuracy: 0.7243 - val_loss: 0.5635 - val_accuracy: 0.7164\n",
      "Epoch 14/70\n",
      "3417/3417 [==============================] - 3s 934us/step - loss: 0.5618 - accuracy: 0.7237 - val_loss: 0.5617 - val_accuracy: 0.7146\n",
      "Epoch 15/70\n",
      "3417/3417 [==============================] - 3s 918us/step - loss: 0.5617 - accuracy: 0.7237 - val_loss: 0.5644 - val_accuracy: 0.7110\n",
      "Epoch 16/70\n",
      "3417/3417 [==============================] - 3s 928us/step - loss: 0.5607 - accuracy: 0.7254 - val_loss: 0.5587 - val_accuracy: 0.7188\n",
      "Epoch 17/70\n",
      "3417/3417 [==============================] - 3s 904us/step - loss: 0.5608 - accuracy: 0.7245 - val_loss: 0.5658 - val_accuracy: 0.7220\n",
      "Epoch 18/70\n",
      "3417/3417 [==============================] - 3s 915us/step - loss: 0.5604 - accuracy: 0.7247 - val_loss: 0.5626 - val_accuracy: 0.7196\n",
      "Epoch 19/70\n",
      "3417/3417 [==============================] - 4s 1ms/step - loss: 0.5607 - accuracy: 0.7250 - val_loss: 0.5616 - val_accuracy: 0.7178\n",
      "Epoch 20/70\n",
      "3417/3417 [==============================] - 4s 1ms/step - loss: 0.5596 - accuracy: 0.7261 - val_loss: 0.5611 - val_accuracy: 0.7208\n",
      "Epoch 21/70\n",
      "3417/3417 [==============================] - 4s 1ms/step - loss: 0.5592 - accuracy: 0.7254 - val_loss: 0.5605 - val_accuracy: 0.7242\n",
      "Epoch 22/70\n",
      "3417/3417 [==============================] - 4s 1ms/step - loss: 0.5595 - accuracy: 0.7245 - val_loss: 0.5586 - val_accuracy: 0.7218\n",
      "Epoch 23/70\n",
      "3417/3417 [==============================] - 4s 1ms/step - loss: 0.5591 - accuracy: 0.7245 - val_loss: 0.5633 - val_accuracy: 0.7148\n",
      "Epoch 24/70\n",
      "3417/3417 [==============================] - 3s 947us/step - loss: 0.5592 - accuracy: 0.7257 - val_loss: 0.5619 - val_accuracy: 0.7164\n",
      "Epoch 25/70\n",
      "3417/3417 [==============================] - 4s 1ms/step - loss: 0.5582 - accuracy: 0.7265 - val_loss: 0.5586 - val_accuracy: 0.7144\n",
      "Epoch 26/70\n",
      "3417/3417 [==============================] - 4s 1ms/step - loss: 0.5576 - accuracy: 0.7271 - val_loss: 0.5583 - val_accuracy: 0.7188\n",
      "Epoch 27/70\n",
      "3417/3417 [==============================] - 3s 872us/step - loss: 0.5579 - accuracy: 0.7270 - val_loss: 0.5603 - val_accuracy: 0.7172\n",
      "Epoch 28/70\n",
      "3417/3417 [==============================] - 3s 914us/step - loss: 0.5576 - accuracy: 0.7280 - val_loss: 0.5587 - val_accuracy: 0.7192\n",
      "Epoch 29/70\n",
      "3417/3417 [==============================] - 3s 877us/step - loss: 0.5578 - accuracy: 0.7260 - val_loss: 0.5576 - val_accuracy: 0.7172\n",
      "Epoch 30/70\n",
      "3417/3417 [==============================] - 3s 926us/step - loss: 0.5566 - accuracy: 0.7276 - val_loss: 0.5553 - val_accuracy: 0.7212\n",
      "Epoch 31/70\n",
      "3417/3417 [==============================] - 3s 1ms/step - loss: 0.5570 - accuracy: 0.7267 - val_loss: 0.5543 - val_accuracy: 0.7224\n",
      "Epoch 32/70\n",
      "3417/3417 [==============================] - 3s 878us/step - loss: 0.5562 - accuracy: 0.7271 - val_loss: 0.5626 - val_accuracy: 0.7214\n",
      "Epoch 33/70\n",
      "3417/3417 [==============================] - 3s 864us/step - loss: 0.5564 - accuracy: 0.7276 - val_loss: 0.5559 - val_accuracy: 0.7194\n",
      "Epoch 34/70\n",
      "3417/3417 [==============================] - 3s 863us/step - loss: 0.5554 - accuracy: 0.7275 - val_loss: 0.5558 - val_accuracy: 0.7192\n",
      "Epoch 35/70\n",
      "3417/3417 [==============================] - 3s 915us/step - loss: 0.5561 - accuracy: 0.7276 - val_loss: 0.5551 - val_accuracy: 0.7266\n",
      "Epoch 36/70\n",
      "3417/3417 [==============================] - 3s 898us/step - loss: 0.5558 - accuracy: 0.7285 - val_loss: 0.5539 - val_accuracy: 0.7234\n",
      "Epoch 37/70\n",
      "3417/3417 [==============================] - 3s 854us/step - loss: 0.5549 - accuracy: 0.7279 - val_loss: 0.5579 - val_accuracy: 0.7234\n",
      "Epoch 38/70\n",
      "3417/3417 [==============================] - 3s 879us/step - loss: 0.5553 - accuracy: 0.7285 - val_loss: 0.5541 - val_accuracy: 0.7236\n",
      "Epoch 39/70\n",
      "3417/3417 [==============================] - 3s 917us/step - loss: 0.5543 - accuracy: 0.7288 - val_loss: 0.5537 - val_accuracy: 0.7228\n",
      "Epoch 40/70\n",
      "3417/3417 [==============================] - 3s 908us/step - loss: 0.5543 - accuracy: 0.7285 - val_loss: 0.5519 - val_accuracy: 0.7240\n",
      "Epoch 41/70\n",
      "3417/3417 [==============================] - 3s 888us/step - loss: 0.5544 - accuracy: 0.7294 - val_loss: 0.5513 - val_accuracy: 0.7232\n",
      "Epoch 42/70\n",
      "3417/3417 [==============================] - 3s 892us/step - loss: 0.5542 - accuracy: 0.7291 - val_loss: 0.5517 - val_accuracy: 0.7242\n",
      "Epoch 43/70\n",
      "3417/3417 [==============================] - 3s 961us/step - loss: 0.5532 - accuracy: 0.7296 - val_loss: 0.5506 - val_accuracy: 0.7248\n",
      "Epoch 44/70\n",
      "3417/3417 [==============================] - 3s 932us/step - loss: 0.5536 - accuracy: 0.7288 - val_loss: 0.5552 - val_accuracy: 0.7196\n",
      "Epoch 45/70\n",
      "3417/3417 [==============================] - 3s 937us/step - loss: 0.5530 - accuracy: 0.7288 - val_loss: 0.5530 - val_accuracy: 0.7224\n",
      "Epoch 46/70\n",
      "3417/3417 [==============================] - 3s 901us/step - loss: 0.5524 - accuracy: 0.7289 - val_loss: 0.5482 - val_accuracy: 0.7276\n",
      "Epoch 47/70\n",
      "3417/3417 [==============================] - 3s 973us/step - loss: 0.5521 - accuracy: 0.7298 - val_loss: 0.5539 - val_accuracy: 0.7242\n",
      "Epoch 48/70\n",
      "3417/3417 [==============================] - 3s 900us/step - loss: 0.5525 - accuracy: 0.7297 - val_loss: 0.5492 - val_accuracy: 0.7278\n",
      "Epoch 49/70\n",
      "3417/3417 [==============================] - 3s 997us/step - loss: 0.5518 - accuracy: 0.7305 - val_loss: 0.5482 - val_accuracy: 0.7270\n",
      "Epoch 50/70\n",
      "3417/3417 [==============================] - 3s 999us/step - loss: 0.5514 - accuracy: 0.7299 - val_loss: 0.5516 - val_accuracy: 0.7182\n",
      "Epoch 51/70\n",
      "3417/3417 [==============================] - 4s 1ms/step - loss: 0.5515 - accuracy: 0.7295 - val_loss: 0.5509 - val_accuracy: 0.7288\n",
      "Epoch 52/70\n",
      "3417/3417 [==============================] - 4s 1ms/step - loss: 0.5506 - accuracy: 0.7298 - val_loss: 0.5570 - val_accuracy: 0.7256\n",
      "Epoch 53/70\n",
      "3417/3417 [==============================] - 3s 966us/step - loss: 0.5513 - accuracy: 0.7293 - val_loss: 0.5475 - val_accuracy: 0.7264\n",
      "Epoch 54/70\n",
      "3417/3417 [==============================] - 3s 934us/step - loss: 0.5491 - accuracy: 0.7300 - val_loss: 0.5589 - val_accuracy: 0.7278\n",
      "Epoch 55/70\n",
      "3417/3417 [==============================] - 3s 934us/step - loss: 0.5504 - accuracy: 0.7298 - val_loss: 0.5504 - val_accuracy: 0.7286\n",
      "Epoch 56/70\n",
      "3417/3417 [==============================] - 3s 932us/step - loss: 0.5491 - accuracy: 0.7301 - val_loss: 0.5454 - val_accuracy: 0.7284\n",
      "Epoch 57/70\n",
      "3417/3417 [==============================] - 3s 913us/step - loss: 0.5499 - accuracy: 0.7297 - val_loss: 0.5486 - val_accuracy: 0.7266\n",
      "Epoch 58/70\n",
      "3417/3417 [==============================] - 3s 918us/step - loss: 0.5498 - accuracy: 0.7303 - val_loss: 0.5448 - val_accuracy: 0.7268\n",
      "Epoch 59/70\n",
      "3417/3417 [==============================] - 3s 922us/step - loss: 0.5499 - accuracy: 0.7308 - val_loss: 0.5483 - val_accuracy: 0.7226\n",
      "Epoch 60/70\n",
      "3417/3417 [==============================] - 3s 938us/step - loss: 0.5487 - accuracy: 0.7315 - val_loss: 0.5505 - val_accuracy: 0.7244\n",
      "Epoch 61/70\n",
      "3417/3417 [==============================] - 3s 916us/step - loss: 0.5474 - accuracy: 0.7310 - val_loss: 0.5454 - val_accuracy: 0.7252\n",
      "Epoch 62/70\n",
      "3417/3417 [==============================] - 3s 950us/step - loss: 0.5483 - accuracy: 0.7315 - val_loss: 0.5554 - val_accuracy: 0.7270\n",
      "Epoch 63/70\n",
      "3417/3417 [==============================] - 3s 1ms/step - loss: 0.5482 - accuracy: 0.7312 - val_loss: 0.5442 - val_accuracy: 0.7296\n",
      "Epoch 64/70\n",
      "3417/3417 [==============================] - 4s 1ms/step - loss: 0.5480 - accuracy: 0.7321 - val_loss: 0.5475 - val_accuracy: 0.7302\n",
      "Epoch 65/70\n",
      "3417/3417 [==============================] - 3s 953us/step - loss: 0.5481 - accuracy: 0.7314 - val_loss: 0.5564 - val_accuracy: 0.7240\n",
      "Epoch 66/70\n",
      "3417/3417 [==============================] - 3s 958us/step - loss: 0.5485 - accuracy: 0.7310 - val_loss: 0.5435 - val_accuracy: 0.7278\n",
      "Epoch 67/70\n",
      "3417/3417 [==============================] - 3s 949us/step - loss: 0.5482 - accuracy: 0.7302 - val_loss: 0.5422 - val_accuracy: 0.7298\n",
      "Epoch 68/70\n",
      "3417/3417 [==============================] - 3s 962us/step - loss: 0.5480 - accuracy: 0.7317 - val_loss: 0.5443 - val_accuracy: 0.7274\n",
      "Epoch 69/70\n",
      "3417/3417 [==============================] - 3s 975us/step - loss: 0.5470 - accuracy: 0.7317 - val_loss: 0.5452 - val_accuracy: 0.7340\n",
      "Epoch 70/70\n",
      "3417/3417 [==============================] - 3s 932us/step - loss: 0.5475 - accuracy: 0.7314 - val_loss: 0.5482 - val_accuracy: 0.7278\n"
     ]
    }
   ],
   "source": [
    "#Let's save the model:\n",
    "checkpoint_model3 = keras.callbacks.ModelCheckpoint(\"my_keras_model_C.h5\", save_best_only=True)\n",
    "\n",
    "#Let's use the Early stopping callback to stop at the best weights:\n",
    "early_stopping_model3 = keras.callbacks.EarlyStopping(patience=8,\n",
    "                                                  restore_best_weights=True)\n",
    "history = model3.fit(X_train, y_train, epochs=70,\n",
    "                    validation_data=(X_valid, y_valid), batch_size=15, \n",
    "                    callbacks=[checkpoint_model3, early_stopping_model3])"
   ]
  },
  {
   "cell_type": "code",
   "execution_count": 335,
   "id": "90da8175",
   "metadata": {
    "scrolled": true
   },
   "outputs": [
    {
     "name": "stdout",
     "output_type": "stream",
     "text": [
      "311/311 [==============================] - 0s 709us/step - loss: 0.5525 - accuracy: 0.7299\n",
      "[0.5525302290916443, 0.7299284934997559]\n"
     ]
    }
   ],
   "source": [
    "score_model3 = model3.evaluate(X_test, y_test)\n",
    "print(score_model3)"
   ]
  },
  {
   "cell_type": "markdown",
   "id": "64c66596",
   "metadata": {},
   "source": [
    "<h5 style=\"color:blue;\"> The accuracy is better than before</h5>\n",
    "<h5 style=\"color:blue;\"> so, using the Neural Networks models gave us the same accuracy as the classical techniques, \n",
    "which is almost 73%, and it's equivilant to what the papers have reached using either \n",
    "the classical techniques or the nueral networks.</h5>\n",
    "<h6 style=\"color:blue;\"> refer to this for ex: https://www.kaggle.com/code/vbmokin/20-models-for-cardiovascular-disease-prediction </h6>"
   ]
  },
  {
   "cell_type": "code",
   "execution_count": 336,
   "id": "82040b48",
   "metadata": {},
   "outputs": [
    {
     "name": "stdout",
     "output_type": "stream",
     "text": [
      "1602/1602 [==============================] - 1s 826us/step\n"
     ]
    },
    {
     "data": {
      "text/plain": [
       "array([[18920,  6002],\n",
       "       [ 7679, 18652]], dtype=int64)"
      ]
     },
     "execution_count": 336,
     "metadata": {},
     "output_type": "execute_result"
    }
   ],
   "source": [
    "#Let's see the Confusion Matrix:\n",
    "\n",
    "from sklearn.metrics import confusion_matrix\n",
    "\n",
    "#Predict\n",
    "y_prediction = model3.predict(X_train)\n",
    "y_prediction = (y_prediction > 0.5)\n",
    "y_prediction.astype(int)\n",
    "cm = confusion_matrix(y_train, y_prediction)\n",
    "cm"
   ]
  },
  {
   "cell_type": "code",
   "execution_count": 337,
   "id": "f8dfcb05",
   "metadata": {},
   "outputs": [
    {
     "data": {
      "image/png": "[encoded data removed]",
      "text/plain": [
       "<Figure size 800x500 with 2 Axes>"
      ]
     },
     "metadata": {},
     "output_type": "display_data"
    }
   ],
   "source": [
    "#Let's draw the confusion matrix:\n",
    "conf_matrix=pd.DataFrame(data=cm,columns=['Predicted:0','Predicted:1'],index=['Actual:0','Actual:1'])\n",
    "plt.figure(figsize = (8,5))\n",
    "sns.heatmap(conf_matrix, annot=True,fmt='d',cmap=\"PuBuGn\");"
   ]
  },
  {
   "cell_type": "code",
   "execution_count": 338,
   "id": "3c1ac059",
   "metadata": {},
   "outputs": [
    {
     "data": {
      "text/plain": [
       "0.7565506611503204"
      ]
     },
     "execution_count": 338,
     "metadata": {},
     "output_type": "execute_result"
    }
   ],
   "source": [
    "#Let's see the precision:\n",
    "from sklearn.metrics import precision_score, recall_score\n",
    "precision_score(y_train, y_prediction)"
   ]
  },
  {
   "cell_type": "code",
   "execution_count": 339,
   "id": "ae6d70eb",
   "metadata": {},
   "outputs": [
    {
     "data": {
      "text/plain": [
       "0.7083665641259352"
      ]
     },
     "execution_count": 339,
     "metadata": {},
     "output_type": "execute_result"
    }
   ],
   "source": [
    "#Let's see the recall:\n",
    "\n",
    "recall_for_model3= recall_score(y_train, y_prediction)\n",
    "recall_for_model3"
   ]
  },
  {
   "cell_type": "markdown",
   "id": "4820a14d",
   "metadata": {},
   "source": [
    "<h5 style=\"color:blue;\">\n",
    "We see that the recall is 70%, which is low compared to the precision and the accuracy,\n",
    "but in the medical field, the recall is much important, as we want to kill the false negatives \n",
    "to fix the disease ASAP, on the other hand, false positive may have some tolerance.\n",
    "\n",
    "</h5>"
   ]
  },
  {
   "cell_type": "markdown",
   "id": "2f5c94f0",
   "metadata": {},
   "source": [
    "<h1></h1>"
   ]
  },
  {
   "cell_type": "markdown",
   "id": "bb7d4060",
   "metadata": {},
   "source": [
    "<h5 style=\"color:blue;\">\n",
    "As we are concerned in the recall, \n",
    "Let's build a new model and give it the same network as model3(best model so far) \n",
    "and use [tf.keras.metrics.Recall()] as a metric instead of accuracy:\n",
    "</h5>"
   ]
  },
  {
   "cell_type": "code",
   "execution_count": 340,
   "id": "23618812",
   "metadata": {},
   "outputs": [],
   "source": [
    "\n",
    "\n",
    "model_final = Sequential()\n",
    "#For the first layer, use the same neurons as the best models\n",
    "model_final.add(Dense(30, input_shape=(12,), kernel_initializer='lecun_normal', activation='selu'))\n",
    "\n",
    "model_final.add(Dense(30, kernel_initializer='lecun_normal', activation='selu'))\n",
    "\n",
    "model_final.add(Dense(1, activation='sigmoid'))\n",
    "# Compile model, using the recall metric\n",
    "#As the default value of threshold is 0.5, let's try 0.3 to give us better recall, even if the precision will decrease:\n",
    "model_final.compile(loss='binary_crossentropy', \n",
    "               optimizer=optimizers.SGD(learning_rate=0.01, momentum=0.85),\n",
    "               metrics=[tf.keras.metrics.Recall(thresholds=0.3)])"
   ]
  },
  {
   "cell_type": "code",
   "execution_count": 341,
   "id": "7032b320",
   "metadata": {},
   "outputs": [
    {
     "name": "stdout",
     "output_type": "stream",
     "text": [
      "Epoch 1/70\n",
      "3417/3417 [==============================] - 4s 1ms/step - loss: 0.5964 - recall_3: 0.9144 - val_loss: 0.5718 - val_recall_3: 0.9221\n",
      "Epoch 2/70\n",
      "3417/3417 [==============================] - 4s 1ms/step - loss: 0.5728 - recall_3: 0.9092 - val_loss: 0.5645 - val_recall_3: 0.8909\n",
      "Epoch 3/70\n",
      "3417/3417 [==============================] - 4s 1ms/step - loss: 0.5686 - recall_3: 0.9081 - val_loss: 0.5666 - val_recall_3: 0.8959\n",
      "Epoch 4/70\n",
      "3417/3417 [==============================] - 4s 1ms/step - loss: 0.5669 - recall_3: 0.9069 - val_loss: 0.5671 - val_recall_3: 0.9147\n",
      "Epoch 5/70\n",
      "3417/3417 [==============================] - 4s 1ms/step - loss: 0.5653 - recall_3: 0.9047 - val_loss: 0.5628 - val_recall_3: 0.9376\n",
      "Epoch 6/70\n",
      "3417/3417 [==============================] - 4s 1ms/step - loss: 0.5642 - recall_3: 0.9081 - val_loss: 0.5657 - val_recall_3: 0.8749\n",
      "Epoch 7/70\n",
      "3417/3417 [==============================] - 4s 1ms/step - loss: 0.5632 - recall_3: 0.9048 - val_loss: 0.5655 - val_recall_3: 0.9505\n",
      "Epoch 8/70\n",
      "3417/3417 [==============================] - 3s 1ms/step - loss: 0.5620 - recall_3: 0.9057 - val_loss: 0.5590 - val_recall_3: 0.8702\n",
      "Epoch 9/70\n",
      "3417/3417 [==============================] - 3s 1ms/step - loss: 0.5607 - recall_3: 0.9057 - val_loss: 0.5598 - val_recall_3: 0.8807\n",
      "Epoch 10/70\n",
      "3417/3417 [==============================] - 3s 994us/step - loss: 0.5604 - recall_3: 0.9058 - val_loss: 0.5583 - val_recall_3: 0.9178\n",
      "Epoch 11/70\n",
      "3417/3417 [==============================] - 4s 1ms/step - loss: 0.5591 - recall_3: 0.9051 - val_loss: 0.5582 - val_recall_3: 0.9034\n",
      "Epoch 12/70\n",
      "3417/3417 [==============================] - 4s 1ms/step - loss: 0.5591 - recall_3: 0.9040 - val_loss: 0.5559 - val_recall_3: 0.9174\n",
      "Epoch 13/70\n",
      "3417/3417 [==============================] - 4s 1ms/step - loss: 0.5578 - recall_3: 0.9040 - val_loss: 0.5536 - val_recall_3: 0.9022\n",
      "Epoch 14/70\n",
      "3417/3417 [==============================] - 3s 980us/step - loss: 0.5569 - recall_3: 0.9032 - val_loss: 0.5548 - val_recall_3: 0.9244\n",
      "Epoch 15/70\n",
      "3417/3417 [==============================] - 4s 1ms/step - loss: 0.5561 - recall_3: 0.9044 - val_loss: 0.5556 - val_recall_3: 0.8936\n",
      "Epoch 16/70\n",
      "3417/3417 [==============================] - 4s 1ms/step - loss: 0.5562 - recall_3: 0.9044 - val_loss: 0.5533 - val_recall_3: 0.9283\n",
      "Epoch 17/70\n",
      "3417/3417 [==============================] - 4s 1ms/step - loss: 0.5547 - recall_3: 0.9025 - val_loss: 0.5531 - val_recall_3: 0.9135\n",
      "Epoch 18/70\n",
      "3417/3417 [==============================] - 3s 1ms/step - loss: 0.5553 - recall_3: 0.9030 - val_loss: 0.5524 - val_recall_3: 0.8854\n",
      "Epoch 19/70\n",
      "3417/3417 [==============================] - 4s 1ms/step - loss: 0.5545 - recall_3: 0.9020 - val_loss: 0.5547 - val_recall_3: 0.9505\n",
      "Epoch 20/70\n",
      "3417/3417 [==============================] - 3s 962us/step - loss: 0.5535 - recall_3: 0.9019 - val_loss: 0.5509 - val_recall_3: 0.8835\n",
      "Epoch 21/70\n",
      "3417/3417 [==============================] - 3s 971us/step - loss: 0.5526 - recall_3: 0.9005 - val_loss: 0.5489 - val_recall_3: 0.9341\n",
      "Epoch 22/70\n",
      "3417/3417 [==============================] - 3s 965us/step - loss: 0.5529 - recall_3: 0.9003 - val_loss: 0.5503 - val_recall_3: 0.9069\n",
      "Epoch 23/70\n",
      "3417/3417 [==============================] - 3s 975us/step - loss: 0.5533 - recall_3: 0.8997 - val_loss: 0.5490 - val_recall_3: 0.8819\n",
      "Epoch 24/70\n",
      "3417/3417 [==============================] - 3s 973us/step - loss: 0.5522 - recall_3: 0.9014 - val_loss: 0.5491 - val_recall_3: 0.8807\n",
      "Epoch 25/70\n",
      "3417/3417 [==============================] - 3s 965us/step - loss: 0.5519 - recall_3: 0.8992 - val_loss: 0.5464 - val_recall_3: 0.9376\n",
      "Epoch 26/70\n",
      "3417/3417 [==============================] - 3s 942us/step - loss: 0.5515 - recall_3: 0.9006 - val_loss: 0.5480 - val_recall_3: 0.9337\n",
      "Epoch 27/70\n",
      "3417/3417 [==============================] - 3s 967us/step - loss: 0.5511 - recall_3: 0.8994 - val_loss: 0.5474 - val_recall_3: 0.9014\n",
      "Epoch 28/70\n",
      "3417/3417 [==============================] - 3s 953us/step - loss: 0.5509 - recall_3: 0.8996 - val_loss: 0.5566 - val_recall_3: 0.9349\n",
      "Epoch 29/70\n",
      "3417/3417 [==============================] - 3s 980us/step - loss: 0.5511 - recall_3: 0.9002 - val_loss: 0.5448 - val_recall_3: 0.9104\n",
      "Epoch 30/70\n",
      "3417/3417 [==============================] - 3s 996us/step - loss: 0.5502 - recall_3: 0.8974 - val_loss: 0.5486 - val_recall_3: 0.9154\n",
      "Epoch 31/70\n",
      "3417/3417 [==============================] - 3s 1ms/step - loss: 0.5499 - recall_3: 0.9005 - val_loss: 0.5441 - val_recall_3: 0.9092\n",
      "Epoch 32/70\n",
      "3417/3417 [==============================] - 3s 956us/step - loss: 0.5502 - recall_3: 0.8985 - val_loss: 0.5443 - val_recall_3: 0.9018\n",
      "Epoch 33/70\n",
      "3417/3417 [==============================] - 3s 955us/step - loss: 0.5500 - recall_3: 0.8984 - val_loss: 0.5440 - val_recall_3: 0.9174\n",
      "Epoch 34/70\n",
      "3417/3417 [==============================] - 3s 951us/step - loss: 0.5496 - recall_3: 0.8995 - val_loss: 0.5458 - val_recall_3: 0.8878\n",
      "Epoch 35/70\n",
      "3417/3417 [==============================] - 3s 964us/step - loss: 0.5493 - recall_3: 0.8985 - val_loss: 0.5455 - val_recall_3: 0.9197\n",
      "Epoch 36/70\n",
      "3417/3417 [==============================] - 4s 1ms/step - loss: 0.5493 - recall_3: 0.8995 - val_loss: 0.5441 - val_recall_3: 0.8932\n",
      "Epoch 37/70\n",
      "3417/3417 [==============================] - 4s 1ms/step - loss: 0.5487 - recall_3: 0.8982 - val_loss: 0.5470 - val_recall_3: 0.8749\n",
      "Epoch 38/70\n",
      "3417/3417 [==============================] - 4s 1ms/step - loss: 0.5489 - recall_3: 0.8994 - val_loss: 0.5451 - val_recall_3: 0.9057\n",
      "Epoch 39/70\n",
      "3417/3417 [==============================] - 5s 1ms/step - loss: 0.5492 - recall_3: 0.8968 - val_loss: 0.5425 - val_recall_3: 0.9096\n",
      "Epoch 40/70\n",
      "3417/3417 [==============================] - 5s 2ms/step - loss: 0.5488 - recall_3: 0.8974 - val_loss: 0.5477 - val_recall_3: 0.8858\n",
      "Epoch 41/70\n",
      "3417/3417 [==============================] - 6s 2ms/step - loss: 0.5487 - recall_3: 0.8983 - val_loss: 0.5452 - val_recall_3: 0.9150\n",
      "Epoch 42/70\n",
      "3417/3417 [==============================] - 5s 2ms/step - loss: 0.5486 - recall_3: 0.8973 - val_loss: 0.5433 - val_recall_3: 0.8952\n",
      "Epoch 43/70\n",
      "3417/3417 [==============================] - 5s 1ms/step - loss: 0.5486 - recall_3: 0.8988 - val_loss: 0.5511 - val_recall_3: 0.9279\n",
      "Epoch 44/70\n",
      "3417/3417 [==============================] - 4s 1ms/step - loss: 0.5485 - recall_3: 0.8967 - val_loss: 0.5415 - val_recall_3: 0.8917\n",
      "Epoch 45/70\n",
      "3417/3417 [==============================] - 4s 1ms/step - loss: 0.5485 - recall_3: 0.8960 - val_loss: 0.5445 - val_recall_3: 0.9271\n",
      "Epoch 46/70\n",
      "3417/3417 [==============================] - 4s 1ms/step - loss: 0.5484 - recall_3: 0.8958 - val_loss: 0.5445 - val_recall_3: 0.9092\n",
      "Epoch 47/70\n",
      "3417/3417 [==============================] - 4s 1ms/step - loss: 0.5481 - recall_3: 0.8970 - val_loss: 0.5452 - val_recall_3: 0.9057\n",
      "Epoch 48/70\n",
      "3417/3417 [==============================] - 4s 1ms/step - loss: 0.5480 - recall_3: 0.8984 - val_loss: 0.5482 - val_recall_3: 0.9092\n",
      "Epoch 49/70\n",
      "3417/3417 [==============================] - 3s 1ms/step - loss: 0.5480 - recall_3: 0.8977 - val_loss: 0.5436 - val_recall_3: 0.8928\n",
      "Epoch 50/70\n",
      "3417/3417 [==============================] - 4s 1ms/step - loss: 0.5482 - recall_3: 0.8981 - val_loss: 0.5416 - val_recall_3: 0.8975\n",
      "Epoch 51/70\n",
      "3417/3417 [==============================] - 3s 1ms/step - loss: 0.5478 - recall_3: 0.8969 - val_loss: 0.5451 - val_recall_3: 0.9244\n",
      "Epoch 52/70\n",
      "3417/3417 [==============================] - 4s 1ms/step - loss: 0.5483 - recall_3: 0.8986 - val_loss: 0.5435 - val_recall_3: 0.8995\n"
     ]
    }
   ],
   "source": [
    "\n",
    "#Let's save the model:\n",
    "checkpoint_model_final = keras.callbacks.ModelCheckpoint(\"my_keras_model_final.h5\", save_best_only=True)\n",
    "\n",
    "#Let's use the Early stopping callback to stop at the best weights:\n",
    "early_stopping_model_final = keras.callbacks.EarlyStopping(patience=8,\n",
    "                                                  restore_best_weights=True)\n",
    "history = model_final.fit(X_train, y_train, epochs=70,\n",
    "                    validation_data=(X_valid, y_valid), batch_size=15, \n",
    "                    callbacks=[checkpoint_model_final, early_stopping_model_final])"
   ]
  },
  {
   "cell_type": "code",
   "execution_count": 358,
   "id": "853ab917",
   "metadata": {},
   "outputs": [
    {
     "name": "stdout",
     "output_type": "stream",
     "text": [
      "311/311 [==============================] - 0s 1ms/step - loss: 0.5485 - recall_3: 0.8871\n"
     ]
    }
   ],
   "source": [
    "score_model_final = model_final.evaluate(X_test, y_test)"
   ]
  },
  {
   "cell_type": "markdown",
   "id": "55e4ea14",
   "metadata": {},
   "source": [
    "<h5 style=\"color:blue;\">\n",
    "As we see, lowering the threshold gave us better recall (88% instead of 70%)\n",
    "</h5>"
   ]
  },
  {
   "cell_type": "code",
   "execution_count": 343,
   "id": "a38ad355",
   "metadata": {},
   "outputs": [
    {
     "data": {
      "image/png": "[encoded data removed]",
      "text/plain": [
       "<Figure size 600x300 with 1 Axes>"
      ]
     },
     "metadata": {},
     "output_type": "display_data"
    }
   ],
   "source": [
    "#Let's compare the loss between model3(best accuracy but bad recall) and the final_model(best recall):\n",
    "\n",
    "losses = [score_model_final[0],score_model3[0]]\n",
    "models = ['model_final', 'model3']\n",
    "\n",
    "fig = plt.figure(figsize = (6,3))\n",
    "\n",
    "plt.bar(models, losses, color ='maroon',\n",
    "        width = 0.2, align = 'center')\n",
    "plt.ylim(0, 0.8)\n",
    "plt.ylabel('Loss')\n",
    "plt.xlabel('Models');\n",
    "plt.title('Comparing the Losses between models')\n",
    "plt.show()"
   ]
  },
  {
   "cell_type": "markdown",
   "id": "4535d978",
   "metadata": {},
   "source": [
    "<h5 style=\"color:brown;\">\n",
    "As wee see in the figure above, the two models have almost the same loss\n",
    "</h5>"
   ]
  },
  {
   "cell_type": "code",
   "execution_count": 344,
   "id": "07425259",
   "metadata": {},
   "outputs": [
    {
     "data": {
      "image/png": "[encoded data removed]",
      "text/plain": [
       "<Figure size 600x300 with 1 Axes>"
      ]
     },
     "metadata": {},
     "output_type": "display_data"
    }
   ],
   "source": [
    "#Let's compare the recall between model3(best accuracy but bad recall) and the final_model(best recall):\n",
    "\n",
    "recalls = [score_model_final[1],recall_for_model3]\n",
    "models = ['model_final', 'model3']\n",
    "\n",
    "fig = plt.figure(figsize = (6,3))\n",
    "\n",
    "plt.bar(models, recalls, color ='maroon',\n",
    "        width = 0.2, align = 'center')\n",
    "plt.ylim(0, 1)\n",
    "plt.ylabel('Recall')\n",
    "plt.xlabel('Models');\n",
    "plt.title('Comparing the Recalls between models')\n",
    "plt.show()"
   ]
  },
  {
   "cell_type": "markdown",
   "id": "c21b29f0",
   "metadata": {},
   "source": [
    "<h5 style=\"color:brown;\">\n",
    "As wee see in the figure above, model_final has better recall than model3.\n",
    "</h5>"
   ]
  },
  {
   "cell_type": "code",
   "execution_count": 368,
   "id": "2e412257",
   "metadata": {},
   "outputs": [],
   "source": [
    "#Let's see a comparisons to the models we've reached:\n",
    "models = pd.DataFrame({\n",
    "    'Model': ['classical_model', 'model3', 'model_final'],\n",
    "    'Score': [score_classical, score_model3[1], 'Nan'],\n",
    "    'Recall': [recall_classical, recall_for_model3, score_model_final[1]]\n",
    "                    })"
   ]
  },
  {
   "cell_type": "code",
   "execution_count": 369,
   "id": "dfffabf6",
   "metadata": {},
   "outputs": [
    {
     "data": {
      "text/html": [
       "<div>\n",
       "<style scoped>\n",
       "    .dataframe tbody tr th:only-of-type {\n",
       "        vertical-align: middle;\n",
       "    }\n",
       "\n",
       "    .dataframe tbody tr th {\n",
       "        vertical-align: top;\n",
       "    }\n",
       "\n",
       "    .dataframe thead th {\n",
       "        text-align: right;\n",
       "    }\n",
       "</style>\n",
       "<table border=\"1\" class=\"dataframe\">\n",
       "  <thead>\n",
       "    <tr style=\"text-align: right;\">\n",
       "      <th></th>\n",
       "      <th>Model</th>\n",
       "      <th>Score</th>\n",
       "      <th>Recall</th>\n",
       "    </tr>\n",
       "  </thead>\n",
       "  <tbody>\n",
       "    <tr>\n",
       "      <th>0</th>\n",
       "      <td>classical_model</td>\n",
       "      <td>0.729223</td>\n",
       "      <td>0.710304</td>\n",
       "    </tr>\n",
       "    <tr>\n",
       "      <th>1</th>\n",
       "      <td>model3</td>\n",
       "      <td>0.729928</td>\n",
       "      <td>0.708367</td>\n",
       "    </tr>\n",
       "    <tr>\n",
       "      <th>2</th>\n",
       "      <td>model_final</td>\n",
       "      <td>Nan</td>\n",
       "      <td>0.887144</td>\n",
       "    </tr>\n",
       "  </tbody>\n",
       "</table>\n",
       "</div>"
      ],
      "text/plain": [
       "             Model     Score    Recall\n",
       "0  classical_model  0.729223  0.710304\n",
       "1           model3  0.729928  0.708367\n",
       "2      model_final       Nan  0.887144"
      ]
     },
     "execution_count": 369,
     "metadata": {},
     "output_type": "execute_result"
    }
   ],
   "source": [
    "models"
   ]
  },
  {
   "cell_type": "markdown",
   "id": "f27be25b",
   "metadata": {},
   "source": [
    "<h1>\n",
    "Conclusion\n",
    "</h1>"
   ]
  },
  {
   "cell_type": "markdown",
   "id": "ca63a7f3",
   "metadata": {},
   "source": [
    "<h6>\n",
    "We obtained the cardiovascular disease dataset from kaggle, which consists of 13 features, and 70,000 record.\n",
    "<br>\n",
    "<br>\n",
    "We did some data preparation to prepare the data to various models.\n",
    "<br>\n",
    "<br>\n",
    "Then we trained some classical models such as RandomForest, SVC and XGBClassifier. We used the ensemble learning to do the voting among the classifiers.\n",
    "<br>\n",
    "<br>\n",
    "to see the accuracy that most of the papers have reached, and we obtained the maximum accuracy\n",
    "reached by the authors of the papers which is 73%.\n",
    "<br>\n",
    "<br>    \n",
    "Then we draw the confusion Matrix to see the recall, which in case of the classical techniques was 71%.\n",
    "<br>\n",
    "<br>\n",
    "Then we trained a keras sequential model, we started with one layer, and it gave us 72%.\n",
    "<br>\n",
    "<br>\n",
    "Then we fined-tune our model by using the grid search to obtain the best parameteres.\n",
    "<br>\n",
    "<br>\n",
    "Finally, we tested the recall of the keras model and it was 70%, so we created a model with the same network but we used the recall as a metric, with threshold 0.3, and it gave us 88% recall.\n",
    "</h6>"
   ]
  },
  {
   "cell_type": "code",
   "execution_count": null,
   "id": "b9296074",
   "metadata": {},
   "outputs": [],
   "source": []
  }
 ],
 "metadata": {
  "kernelspec": {
   "display_name": "Python 3 (ipykernel)",
   "language": "python",
   "name": "python3"
  },
  "language_info": {
   "codemirror_mode": {
    "name": "ipython",
    "version": 3
   },
   "file_extension": ".py",
   "mimetype": "text/x-python",
   "name": "python",
   "nbconvert_exporter": "python",
   "pygments_lexer": "ipython3",
   "version": "3.11.0"
  }
 },
 "nbformat": 4,
 "nbformat_minor": 5
}
